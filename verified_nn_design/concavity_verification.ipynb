{
 "cells": [
  {
   "cell_type": "code",
   "execution_count": 1,
   "metadata": {},
   "outputs": [],
   "source": [
    "import os\n",
    "import pickle\n",
    "import numpy as np\n",
    "import scipy.optimize\n",
    "import deriv_definitions as dd\n",
    "import multiprocessing\n",
    "import time\n",
    "\n",
    "# from ipywidgets import interact, interactive, fixed, interact_manual\n",
    "# import ipywidgets as widgets\n",
    "\n",
    "import matplotlib.pyplot as plt\n",
    "from matplotlib import rc\n",
    "rc('text', usetex=True)\n",
    "\n",
    "from IPython.display import set_matplotlib_formats\n",
    "set_matplotlib_formats('retina','pdf')\n",
    "%matplotlib widget"
   ]
  },
  {
   "cell_type": "markdown",
   "metadata": {},
   "source": [
    "## Import certificates for deriv1, deriv2 and deriv3"
   ]
  },
  {
   "cell_type": "code",
   "execution_count": 2,
   "metadata": {},
   "outputs": [],
   "source": [
    "os.chdir('certs_lr=2_sigma=0.48_rBar=3.5')\n",
    "with open('deriv3_certs.p','rb') as fp:\n",
    "    deriv3_certs = pickle.load(fp)\n",
    "with open('deriv2_certs.p','rb') as fp:\n",
    "    deriv2_certs = pickle.load(fp)\n",
    "with open('deriv1_certs.p','rb') as fp:\n",
    "    deriv1_certs = pickle.load(fp)\n",
    "with open('Lh_vals.p','rb') as fp:\n",
    "    Lvals = pickle.load(fp)\n",
    "os.chdir('..')"
   ]
  },
  {
   "cell_type": "code",
   "execution_count": 3,
   "metadata": {},
   "outputs": [],
   "source": [
    "lr = deriv3_certs[0]['lr']\n",
    "sigma = deriv3_certs[0]['sigma']\n",
    "rBar = deriv3_certs[0]['rBar']\n",
    "h  = lambda v,r,xi     : (sigma*np.cos(xi/2) + 1 - sigma)/rBar - 1/r\n",
    "Lh = lambda v,r,xi,beta: v*( \\\n",
    "        1/(r**2)*np.cos(xi-beta) + sigma*np.sin(xi/2)*np.sin(xi-beta)/(2*rBar*r) + sigma*np.sin(xi/2)*np.sin(beta)/(2*rBar*lr) \\\n",
    "    )\n",
    "barrier = lambda xi: rBar/(sigma*np.cos(xi/2) + 1 - sigma)\n",
    "alpha = lambda x: 2.5*vmax*sigma*x/(2*rBar*lr)\n",
    "LhHat = lambda xi,beta : Lh(1,barrier(xi),xi,beta)"
   ]
  },
  {
   "cell_type": "code",
   "execution_count": 4,
   "metadata": {},
   "outputs": [],
   "source": [
    "K3 = dd.deriv3NumBoundLambda(sigma,lr,rBar) * np.min([ 1/((1-d['margin'])*d['guaranteedMin']) for d in deriv3_certs ])\n",
    "K2 = dd.deriv2NumBoundLambda(sigma,lr,rBar) * np.min([ 1/((1-d['margin'])*d['guaranteedMin']) for d in deriv2_certs ])\n",
    "K1 = dd.deriv1NumBoundLambda(sigma,lr,rBar) * np.min([ 1/((1-d['margin'])*d['guaranteedMin']) for d in deriv1_certs ])"
   ]
  },
  {
   "cell_type": "code",
   "execution_count": 5,
   "metadata": {},
   "outputs": [],
   "source": [
    "lowerExtent = deriv3_certs[0]['lowerExtent']"
   ]
  },
  {
   "cell_type": "code",
   "execution_count": 10,
   "metadata": {},
   "outputs": [
    {
     "data": {
      "text/plain": [
       "3.1592061878983123e-07"
      ]
     },
     "execution_count": 10,
     "metadata": {},
     "output_type": "execute_result"
    }
   ],
   "source": [
    "K1*K2*1e-14"
   ]
  },
  {
   "cell_type": "code",
   "execution_count": 6,
   "metadata": {},
   "outputs": [
    {
     "data": {
      "application/vnd.jupyter.widget-view+json": {
       "model_id": "58f90d383f264f1c821e8f71b737fbf9",
       "version_major": 2,
       "version_minor": 0
      },
      "text/plain": [
       "Canvas(toolbar=Toolbar(toolitems=[('Home', 'Reset original view', 'home', 'home'), ('Back', 'Back to previous …"
      ]
     },
     "metadata": {},
     "output_type": "display_data"
    },
    {
     "data": {
      "text/plain": [
       "[<matplotlib.lines.Line2D at 0x11a365d10>]"
      ]
     },
     "execution_count": 6,
     "metadata": {},
     "output_type": "execute_result"
    }
   ],
   "source": [
    "plt.plot(Lvals['ximesh'][::1000],np.array(Lvals['betaVals'])[::1000])"
   ]
  },
  {
   "cell_type": "code",
   "execution_count": 7,
   "metadata": {},
   "outputs": [
    {
     "data": {
      "application/vnd.jupyter.widget-view+json": {
       "model_id": "50d979264bf24096886988e1d0cb916c",
       "version_major": 2,
       "version_minor": 0
      },
      "text/plain": [
       "Canvas(toolbar=Toolbar(toolitems=[('Home', 'Reset original view', 'home', 'home'), ('Back', 'Back to previous …"
      ]
     },
     "metadata": {},
     "output_type": "display_data"
    },
    {
     "data": {
      "text/plain": [
       "[<matplotlib.lines.Line2D at 0x17b079790>]"
      ]
     },
     "execution_count": 7,
     "metadata": {},
     "output_type": "execute_result"
    }
   ],
   "source": [
    "plt.figure(2)\n",
    "plt.plot(Lvals['ximesh'][::1000],np.array(Lvals['D2Vals'])[::1000])"
   ]
  },
  {
   "cell_type": "code",
   "execution_count": 8,
   "metadata": {},
   "outputs": [
    {
     "data": {
      "application/vnd.jupyter.widget-view+json": {
       "model_id": "8a2c771d681949f293c69d430623d85b",
       "version_major": 2,
       "version_minor": 0
      },
      "text/plain": [
       "Canvas(toolbar=Toolbar(toolitems=[('Home', 'Reset original view', 'home', 'home'), ('Back', 'Back to previous …"
      ]
     },
     "metadata": {},
     "output_type": "display_data"
    },
    {
     "data": {
      "text/plain": [
       "[<matplotlib.lines.Line2D at 0x17b7843d0>]"
      ]
     },
     "execution_count": 8,
     "metadata": {},
     "output_type": "execute_result"
    }
   ],
   "source": [
    "plt.figure(3)\n",
    "plt.plot(Lvals['ximesh'][::1000],np.array(Lvals['LhVals'])[::1000])"
   ]
  },
  {
   "cell_type": "code",
   "execution_count": 9,
   "metadata": {},
   "outputs": [
    {
     "data": {
      "text/plain": [
       "1.00076197329102e-14"
      ]
     },
     "execution_count": 9,
     "metadata": {},
     "output_type": "execute_result"
    }
   ],
   "source": [
    "np.max(np.abs(Lvals['LhVals']))"
   ]
  },
  {
   "cell_type": "code",
   "execution_count": null,
   "metadata": {},
   "outputs": [],
   "source": []
  }
 ],
 "metadata": {
  "kernelspec": {
   "display_name": "Python 3",
   "language": "python",
   "name": "python3"
  },
  "language_info": {
   "codemirror_mode": {
    "name": "ipython",
    "version": 3
   },
   "file_extension": ".py",
   "mimetype": "text/x-python",
   "name": "python",
   "nbconvert_exporter": "python",
   "pygments_lexer": "ipython3",
   "version": "3.7.6"
  }
 },
 "nbformat": 4,
 "nbformat_minor": 4
}
